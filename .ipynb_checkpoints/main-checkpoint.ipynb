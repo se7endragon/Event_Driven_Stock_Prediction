{
 "cells": [
  {
   "cell_type": "code",
   "execution_count": 6,
   "metadata": {},
   "outputs": [],
   "source": [
    "import numpy as np\n",
    "import pickle\n",
    "import os\n",
    "from collections import defaultdict"
   ]
  },
  {
   "cell_type": "code",
   "execution_count": 18,
   "metadata": {},
   "outputs": [],
   "source": [
    "#Load dictionaries\n",
    "with open(os.getcwd()+'/data/news_dict.pickle', 'rb') as handle:\n",
    "    news_dict = pickle.load(handle)\n",
    "    \n",
    "with open(os.getcwd()+'/data/svo_dict.pickle', 'rb') as handle:\n",
    "    svo_dict = pickle.load(handle)\n",
    "    \n",
    "with open(os.getcwd()+'/data/svo_dict_embed.pickle', 'rb') as handle:\n",
    "    svo_dict_embed = pickle.load(handle)"
   ]
  }
 ],
 "metadata": {
  "kernelspec": {
   "display_name": "Python 3",
   "language": "python",
   "name": "python3"
  },
  "language_info": {
   "codemirror_mode": {
    "name": "ipython",
    "version": 3
   },
   "file_extension": ".py",
   "mimetype": "text/x-python",
   "name": "python",
   "nbconvert_exporter": "python",
   "pygments_lexer": "ipython3",
   "version": "3.6.6"
  }
 },
 "nbformat": 4,
 "nbformat_minor": 2
}
